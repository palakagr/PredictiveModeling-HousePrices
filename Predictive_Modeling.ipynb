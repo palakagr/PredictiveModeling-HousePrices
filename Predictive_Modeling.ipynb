{
 "cells": [
  {
   "cell_type": "markdown",
   "metadata": {},
   "source": [
    "# Predictive Modeling of Housing Prices in Philadelphia"
   ]
  },
  {
   "cell_type": "markdown",
   "metadata": {},
   "source": [
    "## Part 1: Modeling Philadelphia's Housing Prices"
   ]
  },
  {
   "cell_type": "code",
   "execution_count": 1,
   "metadata": {},
   "outputs": [],
   "source": [
    "from sklearn.ensemble import RandomForestRegressor\n",
    "from sklearn.preprocessing import StandardScaler, OneHotEncoder\n",
    "from sklearn.compose import ColumnTransformer\n",
    "from sklearn.model_selection import GridSearchCV, train_test_split, cross_val_score\n",
    "from sklearn.pipeline import make_pipeline\n",
    "import numpy as np\n",
    "import pandas as pd\n",
    "import geopandas as gpd"
   ]
  },
  {
   "cell_type": "code",
   "execution_count": 2,
   "metadata": {},
   "outputs": [],
   "source": [
    "np.random.seed(42)"
   ]
  },
  {
   "cell_type": "code",
   "execution_count": 3,
   "metadata": {},
   "outputs": [],
   "source": [
    "from matplotlib import pyplot as plt\n",
    "%matplotlib inline"
   ]
  },
  {
   "cell_type": "markdown",
   "metadata": {},
   "source": [
    "### 1.1 Load data from the Office of Property Assessment\n",
    "\n",
    "Use `carto2gpd` to load data for properties in Philadelphia that had their last sale during 2018.\n",
    "\n",
    "Sources: \n",
    "- [OpenDataPhilly](https://www.opendataphilly.org/dataset/opa-property-assessments)\n",
    "- [Metadata](http://metadata.phila.gov/#home/datasetdetails/5543865f20583086178c4ee5/representationdetails/55d624fdad35c7e854cb21a4/)"
   ]
  },
  {
   "cell_type": "code",
   "execution_count": 4,
   "metadata": {
    "slideshow": {
     "slide_type": "slide"
    }
   },
   "outputs": [],
   "source": [
    "import carto2gpd"
   ]
  },
  {
   "cell_type": "code",
   "execution_count": 5,
   "metadata": {
    "slideshow": {
     "slide_type": "slide"
    }
   },
   "outputs": [],
   "source": [
    "# the CARTO API url\n",
    "carto_url = \"https://phl.carto.com/api/v2/sql\"\n",
    "\n",
    "# The table name\n",
    "table_name = \"opa_properties_public\"\n",
    "\n",
    "# Only pull 2019 sales for single family residential properties\n",
    "where = \"sale_date >= '2019-01-01' and sale_date < '2020-01-01' and category_code_description = 'Single Family'\"\n",
    "\n",
    "# Run the query\n",
    "salesRaw = carto2gpd.get(carto_url, table_name, where=where)"
   ]
  },
  {
   "cell_type": "code",
   "execution_count": 6,
   "metadata": {
    "slideshow": {
     "slide_type": "slide"
    }
   },
   "outputs": [
    {
     "data": {
      "text/html": [
       "<div>\n",
       "<style scoped>\n",
       "    .dataframe tbody tr th:only-of-type {\n",
       "        vertical-align: middle;\n",
       "    }\n",
       "\n",
       "    .dataframe tbody tr th {\n",
       "        vertical-align: top;\n",
       "    }\n",
       "\n",
       "    .dataframe thead th {\n",
       "        text-align: right;\n",
       "    }\n",
       "</style>\n",
       "<table border=\"1\" class=\"dataframe\">\n",
       "  <thead>\n",
       "    <tr style=\"text-align: right;\">\n",
       "      <th></th>\n",
       "      <th>geometry</th>\n",
       "      <th>cartodb_id</th>\n",
       "      <th>assessment_date</th>\n",
       "      <th>basements</th>\n",
       "      <th>beginning_point</th>\n",
       "      <th>book_and_page</th>\n",
       "      <th>building_code</th>\n",
       "      <th>building_code_description</th>\n",
       "      <th>category_code</th>\n",
       "      <th>category_code_description</th>\n",
       "      <th>...</th>\n",
       "      <th>type_heater</th>\n",
       "      <th>unfinished</th>\n",
       "      <th>unit</th>\n",
       "      <th>utility</th>\n",
       "      <th>view_type</th>\n",
       "      <th>year_built</th>\n",
       "      <th>year_built_estimate</th>\n",
       "      <th>zip_code</th>\n",
       "      <th>zoning</th>\n",
       "      <th>objectid</th>\n",
       "    </tr>\n",
       "  </thead>\n",
       "  <tbody>\n",
       "    <tr>\n",
       "      <th>0</th>\n",
       "      <td>POINT (-75.14927 39.93033)</td>\n",
       "      <td>11</td>\n",
       "      <td>None</td>\n",
       "      <td>D</td>\n",
       "      <td>182'11\" W PHILIP</td>\n",
       "      <td>3527524</td>\n",
       "      <td>O50</td>\n",
       "      <td>ROW 3 STY MASONRY</td>\n",
       "      <td>1</td>\n",
       "      <td>Single Family</td>\n",
       "      <td>...</td>\n",
       "      <td>A</td>\n",
       "      <td>None</td>\n",
       "      <td>None</td>\n",
       "      <td>None</td>\n",
       "      <td>I</td>\n",
       "      <td>1920</td>\n",
       "      <td>None</td>\n",
       "      <td>191476037</td>\n",
       "      <td>RSA5</td>\n",
       "      <td>802024387</td>\n",
       "    </tr>\n",
       "    <tr>\n",
       "      <th>1</th>\n",
       "      <td>POINT (-75.14854 39.93144)</td>\n",
       "      <td>23</td>\n",
       "      <td>None</td>\n",
       "      <td>0</td>\n",
       "      <td>54'7\" E OF AMERICAN</td>\n",
       "      <td>3547465</td>\n",
       "      <td>R30</td>\n",
       "      <td>ROW B/GAR 2 STY MASONRY</td>\n",
       "      <td>1</td>\n",
       "      <td>Single Family</td>\n",
       "      <td>...</td>\n",
       "      <td>A</td>\n",
       "      <td>None</td>\n",
       "      <td>None</td>\n",
       "      <td>None</td>\n",
       "      <td>I</td>\n",
       "      <td>1960</td>\n",
       "      <td>Y</td>\n",
       "      <td>191475336</td>\n",
       "      <td>RSA5</td>\n",
       "      <td>802024329</td>\n",
       "    </tr>\n",
       "    <tr>\n",
       "      <th>2</th>\n",
       "      <td>POINT (-75.14721 39.93033)</td>\n",
       "      <td>49</td>\n",
       "      <td>None</td>\n",
       "      <td>C</td>\n",
       "      <td>40'4 1/2\" W HOWARD ST</td>\n",
       "      <td>3517081</td>\n",
       "      <td>O50</td>\n",
       "      <td>ROW 3 STY MASONRY</td>\n",
       "      <td>1</td>\n",
       "      <td>Single Family</td>\n",
       "      <td>...</td>\n",
       "      <td>A</td>\n",
       "      <td>None</td>\n",
       "      <td>None</td>\n",
       "      <td>None</td>\n",
       "      <td>I</td>\n",
       "      <td>1920</td>\n",
       "      <td>Y</td>\n",
       "      <td>191476128</td>\n",
       "      <td>RSA5</td>\n",
       "      <td>802024355</td>\n",
       "    </tr>\n",
       "    <tr>\n",
       "      <th>3</th>\n",
       "      <td>POINT (-75.14871 39.92927)</td>\n",
       "      <td>102</td>\n",
       "      <td>None</td>\n",
       "      <td>C</td>\n",
       "      <td>83'W 2ND ST</td>\n",
       "      <td>3550739</td>\n",
       "      <td>O30</td>\n",
       "      <td>ROW 2 STY MASONRY</td>\n",
       "      <td>1</td>\n",
       "      <td>Single Family</td>\n",
       "      <td>...</td>\n",
       "      <td>H</td>\n",
       "      <td>None</td>\n",
       "      <td>None</td>\n",
       "      <td>None</td>\n",
       "      <td>I</td>\n",
       "      <td>1900</td>\n",
       "      <td>Y</td>\n",
       "      <td>191476003</td>\n",
       "      <td>RSA5</td>\n",
       "      <td>802024491</td>\n",
       "    </tr>\n",
       "    <tr>\n",
       "      <th>4</th>\n",
       "      <td>POINT (-75.14876 39.93011)</td>\n",
       "      <td>116</td>\n",
       "      <td>None</td>\n",
       "      <td>A</td>\n",
       "      <td>28 FT W PHILIP</td>\n",
       "      <td>3534307</td>\n",
       "      <td>O30</td>\n",
       "      <td>ROW 2 STY MASONRY</td>\n",
       "      <td>1</td>\n",
       "      <td>Single Family</td>\n",
       "      <td>...</td>\n",
       "      <td>A</td>\n",
       "      <td>None</td>\n",
       "      <td>None</td>\n",
       "      <td>None</td>\n",
       "      <td>I</td>\n",
       "      <td>1920</td>\n",
       "      <td>Y</td>\n",
       "      <td>191476012</td>\n",
       "      <td>RSA5</td>\n",
       "      <td>802024393</td>\n",
       "    </tr>\n",
       "  </tbody>\n",
       "</table>\n",
       "<p>5 rows × 77 columns</p>\n",
       "</div>"
      ],
      "text/plain": [
       "                     geometry  cartodb_id assessment_date basements  \\\n",
       "0  POINT (-75.14927 39.93033)          11            None         D   \n",
       "1  POINT (-75.14854 39.93144)          23            None         0   \n",
       "2  POINT (-75.14721 39.93033)          49            None         C   \n",
       "3  POINT (-75.14871 39.92927)         102            None         C   \n",
       "4  POINT (-75.14876 39.93011)         116            None         A   \n",
       "\n",
       "             beginning_point book_and_page building_code  \\\n",
       "0  182'11\" W PHILIP                3527524         O50     \n",
       "1  54'7\" E OF AMERICAN             3547465         R30     \n",
       "2  40'4 1/2\" W HOWARD ST           3517081         O50     \n",
       "3  83'W 2ND ST                     3550739         O30     \n",
       "4  28 FT W PHILIP                  3534307         O30     \n",
       "\n",
       "  building_code_description category_code category_code_description  ...  \\\n",
       "0         ROW 3 STY MASONRY             1             Single Family  ...   \n",
       "1   ROW B/GAR 2 STY MASONRY             1             Single Family  ...   \n",
       "2         ROW 3 STY MASONRY             1             Single Family  ...   \n",
       "3         ROW 2 STY MASONRY             1             Single Family  ...   \n",
       "4         ROW 2 STY MASONRY             1             Single Family  ...   \n",
       "\n",
       "  type_heater unfinished  unit utility  view_type  year_built  \\\n",
       "0           A       None  None    None          I        1920   \n",
       "1           A       None  None    None          I        1960   \n",
       "2           A       None  None    None          I        1920   \n",
       "3           H       None  None    None          I        1900   \n",
       "4           A       None  None    None          I        1920   \n",
       "\n",
       "   year_built_estimate   zip_code  zoning   objectid  \n",
       "0                 None  191476037   RSA5   802024387  \n",
       "1                    Y  191475336   RSA5   802024329  \n",
       "2                    Y  191476128   RSA5   802024355  \n",
       "3                    Y  191476003   RSA5   802024491  \n",
       "4                    Y  191476012   RSA5   802024393  \n",
       "\n",
       "[5 rows x 77 columns]"
      ]
     },
     "execution_count": 6,
     "metadata": {},
     "output_type": "execute_result"
    }
   ],
   "source": [
    "salesRaw.head()"
   ]
  },
  {
   "cell_type": "code",
   "execution_count": 7,
   "metadata": {
    "slideshow": {
     "slide_type": "slide"
    }
   },
   "outputs": [
    {
     "data": {
      "text/plain": [
       "25955"
      ]
     },
     "execution_count": 7,
     "metadata": {},
     "output_type": "execute_result"
    }
   ],
   "source": [
    "len(salesRaw)"
   ]
  },
  {
   "cell_type": "markdown",
   "metadata": {},
   "source": [
    "### 1.2 Load data for census tracts and neighborhoods\n",
    "\n",
    "Load various Philadelphia-based regions we will use in our analysis.\n",
    "\n",
    "- Census tracts can be downloaded from: http://data.phl.opendata.arcgis.com/datasets/8bc0786524a4486bb3cf0f9862ad0fbf_0.geojson\n",
    "- Neighborhoods can be downloaded from:\n",
    "https://raw.githubusercontent.com/azavea/geo-data/master/Neighborhoods_Philadelphia/Neighborhoods_Philadelphia.geojson\n"
   ]
  },
  {
   "cell_type": "code",
   "execution_count": 8,
   "metadata": {},
   "outputs": [],
   "source": [
    "import esri2gpd"
   ]
  },
  {
   "cell_type": "code",
   "execution_count": 9,
   "metadata": {},
   "outputs": [],
   "source": [
    "# Neighborhoods\n",
    "url = \"https://raw.githubusercontent.com/azavea/geo-data/master/Neighborhoods_Philadelphia/Neighborhoods_Philadelphia.geojson\"\n",
    "hoods = (\n",
    "    gpd.read_file(url)\n",
    "    .to_crs(epsg=4326)\n",
    "    .rename(columns={\"mapname\": \"neighborhood\"})\n",
    ")"
   ]
  },
  {
   "cell_type": "code",
   "execution_count": 10,
   "metadata": {},
   "outputs": [],
   "source": [
    "# Census tracts\n",
    "url = \"http://data.phl.opendata.arcgis.com/datasets/8bc0786524a4486bb3cf0f9862ad0fbf_0.geojson\"\n",
    "tracts = gpd.read_file(url)"
   ]
  },
  {
   "cell_type": "markdown",
   "metadata": {},
   "source": [
    "### 1.3 Spatially join the sales data and neighborhoods/census tracts.\n",
    "\n",
    "Perform a spatial join, such that each sale has an associated neighborhood and census tract.\n",
    "\n",
    "**Note:** after performing the first spatial join, you will need to use the `drop()` function to remove the `index_right` column; otherwise an error will be raised on the second spatial join about duplicate columns."
   ]
  },
  {
   "cell_type": "code",
   "execution_count": 11,
   "metadata": {},
   "outputs": [],
   "source": [
    "# Join sales with hoods\n",
    "salesRaw = gpd.sjoin(salesRaw, hoods, op='within')"
   ]
  },
  {
   "cell_type": "code",
   "execution_count": 12,
   "metadata": {},
   "outputs": [],
   "source": [
    "# Remove index_right\n",
    "salesRaw = salesRaw.drop(labels=['index_right'], axis=1)"
   ]
  },
  {
   "cell_type": "code",
   "execution_count": 13,
   "metadata": {},
   "outputs": [],
   "source": [
    "# Join sales with tracts\n",
    "salesRaw = gpd.sjoin(salesRaw, tracts, op='within')"
   ]
  },
  {
   "cell_type": "markdown",
   "metadata": {},
   "source": [
    "### 1.4 Train a Random Forest on the sales data"
   ]
  },
  {
   "cell_type": "code",
   "execution_count": 14,
   "metadata": {
    "slideshow": {
     "slide_type": "slide"
    }
   },
   "outputs": [],
   "source": [
    "# The feature columns we want to use\n",
    "cols = [\n",
    "    \"sale_price\",\n",
    "    \"total_livable_area\",\n",
    "    \"total_area\",\n",
    "    \"garage_spaces\",\n",
    "    \"fireplaces\",\n",
    "    \"number_of_bathrooms\",\n",
    "    \"number_of_bedrooms\",\n",
    "    \"number_stories\",\n",
    "    \"exterior_condition\",\n",
    "    \"neighborhood\",\n",
    "]\n",
    "\n",
    "# Trim to these columns and remove NaNs\n",
    "sales = salesRaw[cols].dropna()"
   ]
  },
  {
   "cell_type": "code",
   "execution_count": 15,
   "metadata": {
    "slideshow": {
     "slide_type": "slide"
    }
   },
   "outputs": [],
   "source": [
    "# Trim very low and very high sales\n",
    "valid = (sales['sale_price'] > 3000) & (sales['sale_price'] < 1e6)\n",
    "sales = sales.loc[valid]"
   ]
  },
  {
   "cell_type": "code",
   "execution_count": 16,
   "metadata": {
    "slideshow": {
     "slide_type": "slide"
    }
   },
   "outputs": [
    {
     "data": {
      "text/plain": [
       "20131"
      ]
     },
     "execution_count": 16,
     "metadata": {},
     "output_type": "execute_result"
    }
   ],
   "source": [
    "len(sales)"
   ]
  },
  {
   "cell_type": "markdown",
   "metadata": {},
   "source": [
    "Do the test/tran split:"
   ]
  },
  {
   "cell_type": "code",
   "execution_count": 17,
   "metadata": {},
   "outputs": [],
   "source": [
    "# I'll use a 70/30% split\n",
    "train_set, test_set = train_test_split(sales, test_size=0.3, random_state=42)\n",
    "\n",
    "# the target labels\n",
    "y_train = np.log(train_set[\"sale_price\"])\n",
    "y_test = np.log(test_set[\"sale_price\"])"
   ]
  },
  {
   "cell_type": "markdown",
   "metadata": {},
   "source": [
    "Setup the preprocessor that will scale and one-hot encode the sales data:"
   ]
  },
  {
   "cell_type": "code",
   "execution_count": 18,
   "metadata": {
    "slideshow": {
     "slide_type": "slide"
    }
   },
   "outputs": [],
   "source": [
    "# Numerical columns\n",
    "num_cols = [\n",
    "    \"total_livable_area\",\n",
    "    \"total_area\",\n",
    "    \"garage_spaces\",\n",
    "    \"fireplaces\",\n",
    "    \"number_of_bathrooms\",\n",
    "    \"number_of_bedrooms\",\n",
    "    \"number_stories\",\n",
    "]\n",
    "\n",
    "# Categorical columns\n",
    "cat_cols = [\"exterior_condition\", \"neighborhood\"]"
   ]
  },
  {
   "cell_type": "code",
   "execution_count": 19,
   "metadata": {},
   "outputs": [],
   "source": [
    "# Set up the column transformer with two transformers\n",
    "# Scale the numerical columns and one-hot \n",
    "preprocessor = ColumnTransformer(\n",
    "    transformers=[\n",
    "        (\"num\", StandardScaler(), num_cols),\n",
    "        (\"cat\", OneHotEncoder(handle_unknown=\"ignore\"), cat_cols),\n",
    "    ]\n",
    ")"
   ]
  },
  {
   "cell_type": "markdown",
   "metadata": {},
   "source": [
    "Set up our pipeline:"
   ]
  },
  {
   "cell_type": "code",
   "execution_count": 20,
   "metadata": {},
   "outputs": [],
   "source": [
    "# Initialize the pipeline\n",
    "pipe = make_pipeline(\n",
    "    preprocessor, RandomForestRegressor(random_state=42)\n",
    ")"
   ]
  },
  {
   "cell_type": "markdown",
   "metadata": {},
   "source": [
    "Set up the grid search to optimize two hyperparameters:"
   ]
  },
  {
   "cell_type": "code",
   "execution_count": 21,
   "metadata": {},
   "outputs": [
    {
     "data": {
      "text/plain": [
       "{'randomforestregressor__n_estimators': [5, 20, 30, 50, 100],\n",
       " 'randomforestregressor__max_depth': [2, 13, 21, 33, 51, 77]}"
      ]
     },
     "execution_count": 21,
     "metadata": {},
     "output_type": "execute_result"
    }
   ],
   "source": [
    "# Make the grid of parameters to search\n",
    "# NOTE: you must prepend the name of the pipeline step\n",
    "model_name = \"randomforestregressor\"\n",
    "param_grid = {\n",
    "    f\"{model_name}__n_estimators\": [5, 20, 30, 50, 100],\n",
    "    f\"{model_name}__max_depth\": [2, 13, 21, 33, 51, 77],\n",
    "}\n",
    "\n",
    "param_grid"
   ]
  },
  {
   "cell_type": "code",
   "execution_count": 22,
   "metadata": {},
   "outputs": [
    {
     "name": "stdout",
     "output_type": "stream",
     "text": [
      "Fitting 3 folds for each of 30 candidates, totalling 90 fits\n",
      "[CV] randomforestregressor__max_depth=2, randomforestregressor__n_estimators=5 \n",
      "[CV]  randomforestregressor__max_depth=2, randomforestregressor__n_estimators=5, score=0.174, total=   0.1s\n",
      "[CV] randomforestregressor__max_depth=2, randomforestregressor__n_estimators=5 \n",
      "[CV]  randomforestregressor__max_depth=2, randomforestregressor__n_estimators=5, score=0.191, total=   0.1s\n",
      "[CV] randomforestregressor__max_depth=2, randomforestregressor__n_estimators=5 \n"
     ]
    },
    {
     "name": "stderr",
     "output_type": "stream",
     "text": [
      "[Parallel(n_jobs=1)]: Using backend SequentialBackend with 1 concurrent workers.\n",
      "[Parallel(n_jobs=1)]: Done   1 out of   1 | elapsed:    0.1s remaining:    0.0s\n",
      "[Parallel(n_jobs=1)]: Done   2 out of   2 | elapsed:    0.1s remaining:    0.0s\n"
     ]
    },
    {
     "name": "stdout",
     "output_type": "stream",
     "text": [
      "[CV]  randomforestregressor__max_depth=2, randomforestregressor__n_estimators=5, score=0.213, total=   0.1s\n",
      "[CV] randomforestregressor__max_depth=2, randomforestregressor__n_estimators=20 \n",
      "[CV]  randomforestregressor__max_depth=2, randomforestregressor__n_estimators=20, score=0.174, total=   0.1s\n",
      "[CV] randomforestregressor__max_depth=2, randomforestregressor__n_estimators=20 \n"
     ]
    },
    {
     "name": "stderr",
     "output_type": "stream",
     "text": [
      "[Parallel(n_jobs=1)]: Done   3 out of   3 | elapsed:    0.2s remaining:    0.0s\n",
      "[Parallel(n_jobs=1)]: Done   4 out of   4 | elapsed:    0.3s remaining:    0.0s\n"
     ]
    },
    {
     "name": "stdout",
     "output_type": "stream",
     "text": [
      "[CV]  randomforestregressor__max_depth=2, randomforestregressor__n_estimators=20, score=0.191, total=   0.1s\n",
      "[CV] randomforestregressor__max_depth=2, randomforestregressor__n_estimators=20 \n",
      "[CV]  randomforestregressor__max_depth=2, randomforestregressor__n_estimators=20, score=0.213, total=   0.2s\n",
      "[CV] randomforestregressor__max_depth=2, randomforestregressor__n_estimators=30 \n",
      "[CV]  randomforestregressor__max_depth=2, randomforestregressor__n_estimators=30, score=0.174, total=   0.4s\n",
      "[CV] randomforestregressor__max_depth=2, randomforestregressor__n_estimators=30 \n",
      "[CV]  randomforestregressor__max_depth=2, randomforestregressor__n_estimators=30, score=0.189, total=   0.2s\n",
      "[CV] randomforestregressor__max_depth=2, randomforestregressor__n_estimators=30 \n",
      "[CV]  randomforestregressor__max_depth=2, randomforestregressor__n_estimators=30, score=0.214, total=   0.2s\n",
      "[CV] randomforestregressor__max_depth=2, randomforestregressor__n_estimators=50 \n",
      "[CV]  randomforestregressor__max_depth=2, randomforestregressor__n_estimators=50, score=0.176, total=   0.4s\n",
      "[CV] randomforestregressor__max_depth=2, randomforestregressor__n_estimators=50 \n",
      "[CV]  randomforestregressor__max_depth=2, randomforestregressor__n_estimators=50, score=0.189, total=   0.3s\n",
      "[CV] randomforestregressor__max_depth=2, randomforestregressor__n_estimators=50 \n",
      "[CV]  randomforestregressor__max_depth=2, randomforestregressor__n_estimators=50, score=0.213, total=   0.3s\n",
      "[CV] randomforestregressor__max_depth=2, randomforestregressor__n_estimators=100 \n",
      "[CV]  randomforestregressor__max_depth=2, randomforestregressor__n_estimators=100, score=0.175, total=   1.0s\n",
      "[CV] randomforestregressor__max_depth=2, randomforestregressor__n_estimators=100 \n",
      "[CV]  randomforestregressor__max_depth=2, randomforestregressor__n_estimators=100, score=0.186, total=   1.4s\n",
      "[CV] randomforestregressor__max_depth=2, randomforestregressor__n_estimators=100 \n",
      "[CV]  randomforestregressor__max_depth=2, randomforestregressor__n_estimators=100, score=0.213, total=   0.8s\n",
      "[CV] randomforestregressor__max_depth=13, randomforestregressor__n_estimators=5 \n",
      "[CV]  randomforestregressor__max_depth=13, randomforestregressor__n_estimators=5, score=0.477, total=   0.4s\n",
      "[CV] randomforestregressor__max_depth=13, randomforestregressor__n_estimators=5 \n",
      "[CV]  randomforestregressor__max_depth=13, randomforestregressor__n_estimators=5, score=0.483, total=   0.4s\n",
      "[CV] randomforestregressor__max_depth=13, randomforestregressor__n_estimators=5 \n",
      "[CV]  randomforestregressor__max_depth=13, randomforestregressor__n_estimators=5, score=0.484, total=   0.3s\n",
      "[CV] randomforestregressor__max_depth=13, randomforestregressor__n_estimators=20 \n",
      "[CV]  randomforestregressor__max_depth=13, randomforestregressor__n_estimators=20, score=0.492, total=   1.3s\n",
      "[CV] randomforestregressor__max_depth=13, randomforestregressor__n_estimators=20 \n",
      "[CV]  randomforestregressor__max_depth=13, randomforestregressor__n_estimators=20, score=0.495, total=   1.7s\n",
      "[CV] randomforestregressor__max_depth=13, randomforestregressor__n_estimators=20 \n",
      "[CV]  randomforestregressor__max_depth=13, randomforestregressor__n_estimators=20, score=0.503, total=   2.0s\n",
      "[CV] randomforestregressor__max_depth=13, randomforestregressor__n_estimators=30 \n",
      "[CV]  randomforestregressor__max_depth=13, randomforestregressor__n_estimators=30, score=0.492, total=   2.4s\n",
      "[CV] randomforestregressor__max_depth=13, randomforestregressor__n_estimators=30 \n",
      "[CV]  randomforestregressor__max_depth=13, randomforestregressor__n_estimators=30, score=0.496, total=   2.9s\n",
      "[CV] randomforestregressor__max_depth=13, randomforestregressor__n_estimators=30 \n",
      "[CV]  randomforestregressor__max_depth=13, randomforestregressor__n_estimators=30, score=0.508, total=   2.0s\n",
      "[CV] randomforestregressor__max_depth=13, randomforestregressor__n_estimators=50 \n",
      "[CV]  randomforestregressor__max_depth=13, randomforestregressor__n_estimators=50, score=0.495, total=   3.6s\n",
      "[CV] randomforestregressor__max_depth=13, randomforestregressor__n_estimators=50 \n",
      "[CV]  randomforestregressor__max_depth=13, randomforestregressor__n_estimators=50, score=0.498, total=   3.3s\n",
      "[CV] randomforestregressor__max_depth=13, randomforestregressor__n_estimators=50 \n",
      "[CV]  randomforestregressor__max_depth=13, randomforestregressor__n_estimators=50, score=0.510, total=   3.3s\n",
      "[CV] randomforestregressor__max_depth=13, randomforestregressor__n_estimators=100 \n",
      "[CV]  randomforestregressor__max_depth=13, randomforestregressor__n_estimators=100, score=0.496, total=   6.9s\n",
      "[CV] randomforestregressor__max_depth=13, randomforestregressor__n_estimators=100 \n",
      "[CV]  randomforestregressor__max_depth=13, randomforestregressor__n_estimators=100, score=0.498, total=   7.3s\n",
      "[CV] randomforestregressor__max_depth=13, randomforestregressor__n_estimators=100 \n",
      "[CV]  randomforestregressor__max_depth=13, randomforestregressor__n_estimators=100, score=0.512, total=   8.6s\n",
      "[CV] randomforestregressor__max_depth=21, randomforestregressor__n_estimators=5 \n",
      "[CV]  randomforestregressor__max_depth=21, randomforestregressor__n_estimators=5, score=0.502, total=   0.9s\n",
      "[CV] randomforestregressor__max_depth=21, randomforestregressor__n_estimators=5 \n",
      "[CV]  randomforestregressor__max_depth=21, randomforestregressor__n_estimators=5, score=0.529, total=   0.6s\n",
      "[CV] randomforestregressor__max_depth=21, randomforestregressor__n_estimators=5 \n",
      "[CV]  randomforestregressor__max_depth=21, randomforestregressor__n_estimators=5, score=0.528, total=   0.6s\n",
      "[CV] randomforestregressor__max_depth=21, randomforestregressor__n_estimators=20 \n",
      "[CV]  randomforestregressor__max_depth=21, randomforestregressor__n_estimators=20, score=0.542, total=   2.4s\n",
      "[CV] randomforestregressor__max_depth=21, randomforestregressor__n_estimators=20 \n",
      "[CV]  randomforestregressor__max_depth=21, randomforestregressor__n_estimators=20, score=0.554, total=   2.5s\n",
      "[CV] randomforestregressor__max_depth=21, randomforestregressor__n_estimators=20 \n",
      "[CV]  randomforestregressor__max_depth=21, randomforestregressor__n_estimators=20, score=0.559, total=   2.2s\n",
      "[CV] randomforestregressor__max_depth=21, randomforestregressor__n_estimators=30 \n",
      "[CV]  randomforestregressor__max_depth=21, randomforestregressor__n_estimators=30, score=0.545, total=   4.0s\n",
      "[CV] randomforestregressor__max_depth=21, randomforestregressor__n_estimators=30 \n",
      "[CV]  randomforestregressor__max_depth=21, randomforestregressor__n_estimators=30, score=0.553, total=   3.6s\n",
      "[CV] randomforestregressor__max_depth=21, randomforestregressor__n_estimators=30 \n",
      "[CV]  randomforestregressor__max_depth=21, randomforestregressor__n_estimators=30, score=0.564, total=   3.3s\n",
      "[CV] randomforestregressor__max_depth=21, randomforestregressor__n_estimators=50 \n",
      "[CV]  randomforestregressor__max_depth=21, randomforestregressor__n_estimators=50, score=0.548, total=   6.0s\n",
      "[CV] randomforestregressor__max_depth=21, randomforestregressor__n_estimators=50 \n",
      "[CV]  randomforestregressor__max_depth=21, randomforestregressor__n_estimators=50, score=0.556, total=   6.5s\n",
      "[CV] randomforestregressor__max_depth=21, randomforestregressor__n_estimators=50 \n",
      "[CV]  randomforestregressor__max_depth=21, randomforestregressor__n_estimators=50, score=0.565, total=   7.2s\n",
      "[CV] randomforestregressor__max_depth=21, randomforestregressor__n_estimators=100 \n",
      "[CV]  randomforestregressor__max_depth=21, randomforestregressor__n_estimators=100, score=0.552, total=  12.9s\n",
      "[CV] randomforestregressor__max_depth=21, randomforestregressor__n_estimators=100 \n",
      "[CV]  randomforestregressor__max_depth=21, randomforestregressor__n_estimators=100, score=0.556, total=  16.1s\n",
      "[CV] randomforestregressor__max_depth=21, randomforestregressor__n_estimators=100 \n",
      "[CV]  randomforestregressor__max_depth=21, randomforestregressor__n_estimators=100, score=0.570, total=  12.2s\n",
      "[CV] randomforestregressor__max_depth=33, randomforestregressor__n_estimators=5 \n",
      "[CV]  randomforestregressor__max_depth=33, randomforestregressor__n_estimators=5, score=0.542, total=   1.2s\n",
      "[CV] randomforestregressor__max_depth=33, randomforestregressor__n_estimators=5 \n",
      "[CV]  randomforestregressor__max_depth=33, randomforestregressor__n_estimators=5, score=0.553, total=   0.9s\n",
      "[CV] randomforestregressor__max_depth=33, randomforestregressor__n_estimators=5 \n"
     ]
    },
    {
     "name": "stdout",
     "output_type": "stream",
     "text": [
      "[CV]  randomforestregressor__max_depth=33, randomforestregressor__n_estimators=5, score=0.560, total=   0.9s\n",
      "[CV] randomforestregressor__max_depth=33, randomforestregressor__n_estimators=20 \n",
      "[CV]  randomforestregressor__max_depth=33, randomforestregressor__n_estimators=20, score=0.576, total=   3.7s\n",
      "[CV] randomforestregressor__max_depth=33, randomforestregressor__n_estimators=20 \n",
      "[CV]  randomforestregressor__max_depth=33, randomforestregressor__n_estimators=20, score=0.587, total=   3.9s\n",
      "[CV] randomforestregressor__max_depth=33, randomforestregressor__n_estimators=20 \n",
      "[CV]  randomforestregressor__max_depth=33, randomforestregressor__n_estimators=20, score=0.600, total=   4.7s\n",
      "[CV] randomforestregressor__max_depth=33, randomforestregressor__n_estimators=30 \n",
      "[CV]  randomforestregressor__max_depth=33, randomforestregressor__n_estimators=30, score=0.579, total=   5.5s\n",
      "[CV] randomforestregressor__max_depth=33, randomforestregressor__n_estimators=30 \n",
      "[CV]  randomforestregressor__max_depth=33, randomforestregressor__n_estimators=30, score=0.589, total=   6.7s\n",
      "[CV] randomforestregressor__max_depth=33, randomforestregressor__n_estimators=30 \n",
      "[CV]  randomforestregressor__max_depth=33, randomforestregressor__n_estimators=30, score=0.608, total=   6.7s\n",
      "[CV] randomforestregressor__max_depth=33, randomforestregressor__n_estimators=50 \n",
      "[CV]  randomforestregressor__max_depth=33, randomforestregressor__n_estimators=50, score=0.583, total=  13.2s\n",
      "[CV] randomforestregressor__max_depth=33, randomforestregressor__n_estimators=50 \n",
      "[CV]  randomforestregressor__max_depth=33, randomforestregressor__n_estimators=50, score=0.591, total=  23.4s\n",
      "[CV] randomforestregressor__max_depth=33, randomforestregressor__n_estimators=50 \n",
      "[CV]  randomforestregressor__max_depth=33, randomforestregressor__n_estimators=50, score=0.610, total=  13.6s\n",
      "[CV] randomforestregressor__max_depth=33, randomforestregressor__n_estimators=100 \n",
      "[CV]  randomforestregressor__max_depth=33, randomforestregressor__n_estimators=100, score=0.585, total=  19.3s\n",
      "[CV] randomforestregressor__max_depth=33, randomforestregressor__n_estimators=100 \n",
      "[CV]  randomforestregressor__max_depth=33, randomforestregressor__n_estimators=100, score=0.592, total=  17.5s\n",
      "[CV] randomforestregressor__max_depth=33, randomforestregressor__n_estimators=100 \n",
      "[CV]  randomforestregressor__max_depth=33, randomforestregressor__n_estimators=100, score=0.615, total=  20.1s\n",
      "[CV] randomforestregressor__max_depth=51, randomforestregressor__n_estimators=5 \n",
      "[CV]  randomforestregressor__max_depth=51, randomforestregressor__n_estimators=5, score=0.537, total=   1.0s\n",
      "[CV] randomforestregressor__max_depth=51, randomforestregressor__n_estimators=5 \n",
      "[CV]  randomforestregressor__max_depth=51, randomforestregressor__n_estimators=5, score=0.535, total=   1.1s\n",
      "[CV] randomforestregressor__max_depth=51, randomforestregressor__n_estimators=5 \n",
      "[CV]  randomforestregressor__max_depth=51, randomforestregressor__n_estimators=5, score=0.553, total=   1.0s\n",
      "[CV] randomforestregressor__max_depth=51, randomforestregressor__n_estimators=20 \n",
      "[CV]  randomforestregressor__max_depth=51, randomforestregressor__n_estimators=20, score=0.584, total=   4.1s\n",
      "[CV] randomforestregressor__max_depth=51, randomforestregressor__n_estimators=20 \n",
      "[CV]  randomforestregressor__max_depth=51, randomforestregressor__n_estimators=20, score=0.582, total=   4.1s\n",
      "[CV] randomforestregressor__max_depth=51, randomforestregressor__n_estimators=20 \n",
      "[CV]  randomforestregressor__max_depth=51, randomforestregressor__n_estimators=20, score=0.606, total=   4.0s\n",
      "[CV] randomforestregressor__max_depth=51, randomforestregressor__n_estimators=30 \n",
      "[CV]  randomforestregressor__max_depth=51, randomforestregressor__n_estimators=30, score=0.587, total=   6.0s\n",
      "[CV] randomforestregressor__max_depth=51, randomforestregressor__n_estimators=30 \n",
      "[CV]  randomforestregressor__max_depth=51, randomforestregressor__n_estimators=30, score=0.585, total=   6.1s\n",
      "[CV] randomforestregressor__max_depth=51, randomforestregressor__n_estimators=30 \n",
      "[CV]  randomforestregressor__max_depth=51, randomforestregressor__n_estimators=30, score=0.615, total=   6.1s\n",
      "[CV] randomforestregressor__max_depth=51, randomforestregressor__n_estimators=50 \n",
      "[CV]  randomforestregressor__max_depth=51, randomforestregressor__n_estimators=50, score=0.591, total=  10.1s\n",
      "[CV] randomforestregressor__max_depth=51, randomforestregressor__n_estimators=50 \n",
      "[CV]  randomforestregressor__max_depth=51, randomforestregressor__n_estimators=50, score=0.586, total=  10.3s\n",
      "[CV] randomforestregressor__max_depth=51, randomforestregressor__n_estimators=50 \n",
      "[CV]  randomforestregressor__max_depth=51, randomforestregressor__n_estimators=50, score=0.616, total=  10.0s\n",
      "[CV] randomforestregressor__max_depth=51, randomforestregressor__n_estimators=100 \n",
      "[CV]  randomforestregressor__max_depth=51, randomforestregressor__n_estimators=100, score=0.593, total=  20.0s\n",
      "[CV] randomforestregressor__max_depth=51, randomforestregressor__n_estimators=100 \n",
      "[CV]  randomforestregressor__max_depth=51, randomforestregressor__n_estimators=100, score=0.590, total=  20.4s\n",
      "[CV] randomforestregressor__max_depth=51, randomforestregressor__n_estimators=100 \n",
      "[CV]  randomforestregressor__max_depth=51, randomforestregressor__n_estimators=100, score=0.621, total=  20.1s\n",
      "[CV] randomforestregressor__max_depth=77, randomforestregressor__n_estimators=5 \n",
      "[CV]  randomforestregressor__max_depth=77, randomforestregressor__n_estimators=5, score=0.528, total=   1.2s\n",
      "[CV] randomforestregressor__max_depth=77, randomforestregressor__n_estimators=5 \n",
      "[CV]  randomforestregressor__max_depth=77, randomforestregressor__n_estimators=5, score=0.520, total=   1.1s\n",
      "[CV] randomforestregressor__max_depth=77, randomforestregressor__n_estimators=5 \n",
      "[CV]  randomforestregressor__max_depth=77, randomforestregressor__n_estimators=5, score=0.534, total=   1.1s\n",
      "[CV] randomforestregressor__max_depth=77, randomforestregressor__n_estimators=20 \n",
      "[CV]  randomforestregressor__max_depth=77, randomforestregressor__n_estimators=20, score=0.578, total=   4.5s\n",
      "[CV] randomforestregressor__max_depth=77, randomforestregressor__n_estimators=20 \n",
      "[CV]  randomforestregressor__max_depth=77, randomforestregressor__n_estimators=20, score=0.575, total=   4.4s\n",
      "[CV] randomforestregressor__max_depth=77, randomforestregressor__n_estimators=20 \n",
      "[CV]  randomforestregressor__max_depth=77, randomforestregressor__n_estimators=20, score=0.597, total=   4.5s\n",
      "[CV] randomforestregressor__max_depth=77, randomforestregressor__n_estimators=30 \n",
      "[CV]  randomforestregressor__max_depth=77, randomforestregressor__n_estimators=30, score=0.580, total=   6.7s\n",
      "[CV] randomforestregressor__max_depth=77, randomforestregressor__n_estimators=30 \n",
      "[CV]  randomforestregressor__max_depth=77, randomforestregressor__n_estimators=30, score=0.576, total=   6.6s\n",
      "[CV] randomforestregressor__max_depth=77, randomforestregressor__n_estimators=30 \n",
      "[CV]  randomforestregressor__max_depth=77, randomforestregressor__n_estimators=30, score=0.606, total=   6.8s\n",
      "[CV] randomforestregressor__max_depth=77, randomforestregressor__n_estimators=50 \n",
      "[CV]  randomforestregressor__max_depth=77, randomforestregressor__n_estimators=50, score=0.585, total=  11.1s\n",
      "[CV] randomforestregressor__max_depth=77, randomforestregressor__n_estimators=50 \n",
      "[CV]  randomforestregressor__max_depth=77, randomforestregressor__n_estimators=50, score=0.580, total=  11.1s\n",
      "[CV] randomforestregressor__max_depth=77, randomforestregressor__n_estimators=50 \n",
      "[CV]  randomforestregressor__max_depth=77, randomforestregressor__n_estimators=50, score=0.608, total=  11.2s\n",
      "[CV] randomforestregressor__max_depth=77, randomforestregressor__n_estimators=100 \n",
      "[CV]  randomforestregressor__max_depth=77, randomforestregressor__n_estimators=100, score=0.588, total=  22.1s\n",
      "[CV] randomforestregressor__max_depth=77, randomforestregressor__n_estimators=100 \n",
      "[CV]  randomforestregressor__max_depth=77, randomforestregressor__n_estimators=100, score=0.584, total=  22.2s\n",
      "[CV] randomforestregressor__max_depth=77, randomforestregressor__n_estimators=100 \n",
      "[CV]  randomforestregressor__max_depth=77, randomforestregressor__n_estimators=100, score=0.613, total=  22.3s\n"
     ]
    },
    {
     "name": "stderr",
     "output_type": "stream",
     "text": [
      "[Parallel(n_jobs=1)]: Done  90 out of  90 | elapsed:  8.9min finished\n"
     ]
    },
    {
     "data": {
      "text/plain": [
       "GridSearchCV(cv=3,\n",
       "             estimator=Pipeline(steps=[('columntransformer',\n",
       "                                        ColumnTransformer(transformers=[('num',\n",
       "                                                                         StandardScaler(),\n",
       "                                                                         ['total_livable_area',\n",
       "                                                                          'total_area',\n",
       "                                                                          'garage_spaces',\n",
       "                                                                          'fireplaces',\n",
       "                                                                          'number_of_bathrooms',\n",
       "                                                                          'number_of_bedrooms',\n",
       "                                                                          'number_stories']),\n",
       "                                                                        ('cat',\n",
       "                                                                         OneHotEncoder(handle_unknown='ignore'),\n",
       "                                                                         ['exterior_condition',\n",
       "                                                                          'neighborhood'])])),\n",
       "                                       ('randomforestregressor',\n",
       "                                        RandomForestRegressor(random_state=42))]),\n",
       "             param_grid={'randomforestregressor__max_depth': [2, 13, 21, 33, 51,\n",
       "                                                              77],\n",
       "                         'randomforestregressor__n_estimators': [5, 20, 30, 50,\n",
       "                                                                 100]},\n",
       "             verbose=5)"
      ]
     },
     "execution_count": 22,
     "metadata": {},
     "output_type": "execute_result"
    }
   ],
   "source": [
    "# Create the grid and use 3-fold CV\n",
    "grid = GridSearchCV(pipe, param_grid, verbose=5, cv=3)\n",
    "\n",
    "# Run the search\n",
    "grid.fit(train_set, y_train)"
   ]
  },
  {
   "cell_type": "code",
   "execution_count": 23,
   "metadata": {},
   "outputs": [],
   "source": [
    "# The best estimator\n",
    "best_estimator = grid.best_estimator_"
   ]
  },
  {
   "cell_type": "code",
   "execution_count": 24,
   "metadata": {},
   "outputs": [
    {
     "data": {
      "text/plain": [
       "{'randomforestregressor__max_depth': 51,\n",
       " 'randomforestregressor__n_estimators': 100}"
      ]
     },
     "execution_count": 24,
     "metadata": {},
     "output_type": "execute_result"
    }
   ],
   "source": [
    "# The best hyper parameters\n",
    "grid.best_params_"
   ]
  },
  {
   "cell_type": "code",
   "execution_count": 25,
   "metadata": {
    "slideshow": {
     "slide_type": "slide"
    }
   },
   "outputs": [
    {
     "data": {
      "text/plain": [
       "0.6063805760204916"
      ]
     },
     "execution_count": 25,
     "metadata": {},
     "output_type": "execute_result"
    }
   ],
   "source": [
    "# Get the R2 on the test set!\n",
    "best_estimator.score(test_set, y_test)"
   ]
  },
  {
   "cell_type": "markdown",
   "metadata": {},
   "source": [
    "### 2.5 Calculate the percent error of your model predictions for each sale in the test set\n",
    "\n",
    "Fit your best model and use it to make predictions on the test set.\n",
    "\n",
    "**Note:** this should be the percent error in terms of **sale price** or **sale price per sq ft**. You'll need to convert if you predicted the log!"
   ]
  },
  {
   "cell_type": "code",
   "execution_count": 26,
   "metadata": {},
   "outputs": [],
   "source": [
    "# Make the predictions\n",
    "predictions = best_estimator.predict(test_set)\n",
    "\n",
    "# Absolute error\n",
    "# NOTE: we convert from log(sale_price) to sale_price using exp()\n",
    "errors = (np.exp(predictions) - np.exp(y_test)) / np.exp(y_test) * 100"
   ]
  },
  {
   "cell_type": "code",
   "execution_count": 27,
   "metadata": {},
   "outputs": [
    {
     "data": {
      "text/plain": [
       "16549   -61.744701\n",
       "14680    29.363871\n",
       "19833   -18.672173\n",
       "14511   -22.510522\n",
       "12760   -31.649470\n",
       "Name: sale_price, dtype: float64"
      ]
     },
     "execution_count": 27,
     "metadata": {},
     "output_type": "execute_result"
    }
   ],
   "source": [
    "errors.head()"
   ]
  },
  {
   "cell_type": "markdown",
   "metadata": {},
   "source": [
    "### 2.6 Make a data frame with percent errors and census tract info for each sale in the test set\n",
    "\n",
    "Create a data frame that has the property geometries, census tract data, and percent errors for all of the sales in the test set.\n",
    "\n",
    "**Notes**\n",
    "\n",
    "- When using the \"train_test_split()\" function, the index of the test data frame includes the labels from the original sales data frame\n",
    "- You can use this index to slice out the test data from the original sales data frame, which should include the census tract info and geometries\n",
    "- Add a new column to this data frame holding the percent error data\n",
    "\n"
   ]
  },
  {
   "cell_type": "code",
   "execution_count": 28,
   "metadata": {},
   "outputs": [
    {
     "data": {
      "text/html": [
       "<div>\n",
       "<style scoped>\n",
       "    .dataframe tbody tr th:only-of-type {\n",
       "        vertical-align: middle;\n",
       "    }\n",
       "\n",
       "    .dataframe tbody tr th {\n",
       "        vertical-align: top;\n",
       "    }\n",
       "\n",
       "    .dataframe thead th {\n",
       "        text-align: right;\n",
       "    }\n",
       "</style>\n",
       "<table border=\"1\" class=\"dataframe\">\n",
       "  <thead>\n",
       "    <tr style=\"text-align: right;\">\n",
       "      <th></th>\n",
       "      <th>geometry</th>\n",
       "      <th>cartodb_id_left</th>\n",
       "      <th>assessment_date</th>\n",
       "      <th>basements</th>\n",
       "      <th>beginning_point</th>\n",
       "      <th>book_and_page</th>\n",
       "      <th>building_code</th>\n",
       "      <th>building_code_description</th>\n",
       "      <th>category_code</th>\n",
       "      <th>category_code_description</th>\n",
       "      <th>...</th>\n",
       "      <th>NAME10</th>\n",
       "      <th>NAMELSAD10</th>\n",
       "      <th>MTFCC10</th>\n",
       "      <th>FUNCSTAT10</th>\n",
       "      <th>ALAND10</th>\n",
       "      <th>AWATER10</th>\n",
       "      <th>INTPTLAT10</th>\n",
       "      <th>INTPTLON10</th>\n",
       "      <th>LOGRECNO</th>\n",
       "      <th>percent_error</th>\n",
       "    </tr>\n",
       "  </thead>\n",
       "  <tbody>\n",
       "    <tr>\n",
       "      <th>16549</th>\n",
       "      <td>POINT (-75.16262 40.07149)</td>\n",
       "      <td>349744</td>\n",
       "      <td>None</td>\n",
       "      <td>H</td>\n",
       "      <td>257'111/8\" N UPSAL ST</td>\n",
       "      <td>3555139</td>\n",
       "      <td>R30</td>\n",
       "      <td>ROW B/GAR 2 STY MASONRY</td>\n",
       "      <td>1</td>\n",
       "      <td>Single Family</td>\n",
       "      <td>...</td>\n",
       "      <td>263.01</td>\n",
       "      <td>Census Tract 263.01</td>\n",
       "      <td>G5020</td>\n",
       "      <td>S</td>\n",
       "      <td>406340</td>\n",
       "      <td>0</td>\n",
       "      <td>+40.0728148</td>\n",
       "      <td>-075.1637161</td>\n",
       "      <td>10574</td>\n",
       "      <td>-61.744701</td>\n",
       "    </tr>\n",
       "    <tr>\n",
       "      <th>14680</th>\n",
       "      <td>POINT (-75.13007 40.02820)</td>\n",
       "      <td>302803</td>\n",
       "      <td>None</td>\n",
       "      <td>None</td>\n",
       "      <td>131' N OF ASHDALE ST</td>\n",
       "      <td>3534862</td>\n",
       "      <td>O30</td>\n",
       "      <td>ROW 2 STY MASONRY</td>\n",
       "      <td>1</td>\n",
       "      <td>Single Family</td>\n",
       "      <td>...</td>\n",
       "      <td>286</td>\n",
       "      <td>Census Tract 286</td>\n",
       "      <td>G5020</td>\n",
       "      <td>S</td>\n",
       "      <td>717845</td>\n",
       "      <td>0</td>\n",
       "      <td>+40.0285757</td>\n",
       "      <td>-075.1276448</td>\n",
       "      <td>10600</td>\n",
       "      <td>29.363871</td>\n",
       "    </tr>\n",
       "    <tr>\n",
       "      <th>19833</th>\n",
       "      <td>POINT (-75.06209 40.06844)</td>\n",
       "      <td>412535</td>\n",
       "      <td>None</td>\n",
       "      <td>E</td>\n",
       "      <td>24.175' SEC DORCAS</td>\n",
       "      <td>3506998</td>\n",
       "      <td>K11</td>\n",
       "      <td>S/D W/B GAR 1 STY MAS+OTH</td>\n",
       "      <td>1</td>\n",
       "      <td>Single Family</td>\n",
       "      <td>...</td>\n",
       "      <td>337.02</td>\n",
       "      <td>Census Tract 337.02</td>\n",
       "      <td>G5020</td>\n",
       "      <td>S</td>\n",
       "      <td>1057798</td>\n",
       "      <td>0</td>\n",
       "      <td>+40.0707532</td>\n",
       "      <td>-075.0578212</td>\n",
       "      <td>10649</td>\n",
       "      <td>-18.672173</td>\n",
       "    </tr>\n",
       "    <tr>\n",
       "      <th>14511</th>\n",
       "      <td>POINT (-75.12727 40.03000)</td>\n",
       "      <td>308470</td>\n",
       "      <td>None</td>\n",
       "      <td>None</td>\n",
       "      <td>137'0 1/2\" W OF 2ND</td>\n",
       "      <td>3509507</td>\n",
       "      <td>O30</td>\n",
       "      <td>ROW 2 STY MASONRY</td>\n",
       "      <td>1</td>\n",
       "      <td>Single Family</td>\n",
       "      <td>...</td>\n",
       "      <td>286</td>\n",
       "      <td>Census Tract 286</td>\n",
       "      <td>G5020</td>\n",
       "      <td>S</td>\n",
       "      <td>717845</td>\n",
       "      <td>0</td>\n",
       "      <td>+40.0285757</td>\n",
       "      <td>-075.1276448</td>\n",
       "      <td>10600</td>\n",
       "      <td>-22.510522</td>\n",
       "    </tr>\n",
       "    <tr>\n",
       "      <th>12760</th>\n",
       "      <td>POINT (-75.22743 39.93575)</td>\n",
       "      <td>270187</td>\n",
       "      <td>None</td>\n",
       "      <td>C</td>\n",
       "      <td>157' S CHESTER AVE</td>\n",
       "      <td>3468426</td>\n",
       "      <td>O30</td>\n",
       "      <td>ROW 2 STY MASONRY</td>\n",
       "      <td>1</td>\n",
       "      <td>Single Family</td>\n",
       "      <td>...</td>\n",
       "      <td>71.01</td>\n",
       "      <td>Census Tract 71.01</td>\n",
       "      <td>G5020</td>\n",
       "      <td>S</td>\n",
       "      <td>253256</td>\n",
       "      <td>0</td>\n",
       "      <td>+39.9381580</td>\n",
       "      <td>-075.2249984</td>\n",
       "      <td>10403</td>\n",
       "      <td>-31.649470</td>\n",
       "    </tr>\n",
       "  </tbody>\n",
       "</table>\n",
       "<p>5 rows × 101 columns</p>\n",
       "</div>"
      ],
      "text/plain": [
       "                         geometry  cartodb_id_left assessment_date basements  \\\n",
       "16549  POINT (-75.16262 40.07149)           349744            None         H   \n",
       "14680  POINT (-75.13007 40.02820)           302803            None      None   \n",
       "19833  POINT (-75.06209 40.06844)           412535            None         E   \n",
       "14511  POINT (-75.12727 40.03000)           308470            None      None   \n",
       "12760  POINT (-75.22743 39.93575)           270187            None         C   \n",
       "\n",
       "                 beginning_point book_and_page building_code  \\\n",
       "16549  257'111/8\" N UPSAL ST           3555139         R30     \n",
       "14680  131' N OF ASHDALE ST            3534862         O30     \n",
       "19833  24.175' SEC DORCAS              3506998         K11     \n",
       "14511  137'0 1/2\" W OF 2ND             3509507         O30     \n",
       "12760  157' S CHESTER AVE              3468426         O30     \n",
       "\n",
       "       building_code_description category_code category_code_description  ...  \\\n",
       "16549    ROW B/GAR 2 STY MASONRY             1             Single Family  ...   \n",
       "14680          ROW 2 STY MASONRY             1             Single Family  ...   \n",
       "19833  S/D W/B GAR 1 STY MAS+OTH             1             Single Family  ...   \n",
       "14511          ROW 2 STY MASONRY             1             Single Family  ...   \n",
       "12760          ROW 2 STY MASONRY             1             Single Family  ...   \n",
       "\n",
       "       NAME10           NAMELSAD10 MTFCC10 FUNCSTAT10  ALAND10  AWATER10  \\\n",
       "16549  263.01  Census Tract 263.01   G5020          S   406340         0   \n",
       "14680     286     Census Tract 286   G5020          S   717845         0   \n",
       "19833  337.02  Census Tract 337.02   G5020          S  1057798         0   \n",
       "14511     286     Census Tract 286   G5020          S   717845         0   \n",
       "12760   71.01   Census Tract 71.01   G5020          S   253256         0   \n",
       "\n",
       "        INTPTLAT10    INTPTLON10  LOGRECNO  percent_error  \n",
       "16549  +40.0728148  -075.1637161     10574     -61.744701  \n",
       "14680  +40.0285757  -075.1276448     10600      29.363871  \n",
       "19833  +40.0707532  -075.0578212     10649     -18.672173  \n",
       "14511  +40.0285757  -075.1276448     10600     -22.510522  \n",
       "12760  +39.9381580  -075.2249984     10403     -31.649470  \n",
       "\n",
       "[5 rows x 101 columns]"
      ]
     },
     "execution_count": 28,
     "metadata": {},
     "output_type": "execute_result"
    }
   ],
   "source": [
    "# Extract out the test set data from the original data set\n",
    "salesTest = salesRaw.loc[test_set.index]\n",
    "\n",
    "# Add the percent error column\n",
    "salesTest['percent_error'] =  errors\n",
    "\n",
    "salesTest.head()"
   ]
  },
  {
   "cell_type": "markdown",
   "metadata": {},
   "source": [
    "### 2.7 Plot a map of the median percent error by census tract \n",
    "\n",
    "- You'll want to group your data frame of test sales by the `GEOID10` column and take the median of you percent error column\n",
    "- Merge the census tract geometries back in and use geopandas to plot."
   ]
  },
  {
   "cell_type": "code",
   "execution_count": 29,
   "metadata": {},
   "outputs": [],
   "source": [
    "median_errors = tracts.merge(\n",
    "    salesTest.groupby(\"GEOID10\")[\"percent_error\"].median().reset_index(), on=\"GEOID10\"\n",
    ")"
   ]
  },
  {
   "cell_type": "code",
   "execution_count": 30,
   "metadata": {},
   "outputs": [],
   "source": [
    "from mpl_toolkits.axes_grid1 import make_axes_locatable"
   ]
  },
  {
   "cell_type": "code",
   "execution_count": 31,
   "metadata": {},
   "outputs": [
    {
     "name": "stderr",
     "output_type": "stream",
     "text": [
      "/Users/nhand/opt/miniconda3/envs/musa-550-fall-2020/lib/python3.7/site-packages/ipykernel_launcher.py:17: UserWarning: FixedFormatter should only be used together with FixedLocator\n"
     ]
    },
    {
     "data": {
      "image/png": "[encoded data removed]",
      "text/plain": [
       "<Figure size 720x720 with 2 Axes>"
      ]
     },
     "metadata": {
      "needs_background": "light"
     },
     "output_type": "display_data"
    }
   ],
   "source": [
    "# Create the figure and axes\n",
    "fig, ax = plt.subplots(figsize=(10, 10))\n",
    "\n",
    "# Setup the colorbar axes\n",
    "divider = make_axes_locatable(ax)\n",
    "cax = divider.append_axes(\"right\", size=\"5%\", pad=0.1)\n",
    "\n",
    "# Plot\n",
    "median_errors.to_crs(epsg=2272).plot(\n",
    "    ax=ax, column=\"percent_error\", vmin=-100, vmax=100, legend=True, cax=cax, cmap='coolwarm', edgecolor='k', linewidth=0.5\n",
    ")\n",
    "\n",
    "# Format\n",
    "ax.set_facecolor(\"#444444\")\n",
    "ax.set_xticks([])\n",
    "ax.set_yticks([])\n",
    "cax.set_yticklabels([f\"{x:.0f}%\" for x in cax.get_yticks()]);"
   ]
  },
  {
   "cell_type": "markdown",
   "metadata": {},
   "source": [
    "**The above figure clearly shows that areas of the city with minority populations tend to be over assessed by the model.**"
   ]
  },
  {
   "cell_type": "markdown",
   "metadata": {},
   "source": [
    "### 2.8 Compare the percent errors in Qualifying Census Tracts and other tracts \n",
    "\n",
    "[Qualifying Census Tracts](https://www.huduser.gov/portal/datasets/qct.html) are a poverty designation that HUD uses to allocate housing tax credits\n",
    "\n",
    "- I've included a list of the census tract names that qualify in Philadelphia in 2019\n",
    "- Add a new column to your dataframe of test set sales that is True/False depending on if the tract is a QCT\n",
    "- Then, group by this new column and calculate the median percent error\n",
    "\n",
    "**You should find that the algorithm's accuracy is significantly worse in these low-income, qualifying census tracts**"
   ]
  },
  {
   "cell_type": "code",
   "execution_count": 32,
   "metadata": {},
   "outputs": [],
   "source": [
    "qct = ['5',\n",
    " '20',\n",
    " '22',\n",
    " '28.01',\n",
    " '30.01',\n",
    " '30.02',\n",
    " '31',\n",
    " '32',\n",
    " '33',\n",
    " '36',\n",
    " '37.01',\n",
    " '37.02',\n",
    " '39.01',\n",
    " '41.01',\n",
    " '41.02',\n",
    " '56',\n",
    " '60',\n",
    " '61',\n",
    " '62',\n",
    " '63',\n",
    " '64',\n",
    " '65',\n",
    " '66',\n",
    " '67',\n",
    " '69',\n",
    " '70',\n",
    " '71.01',\n",
    " '71.02',\n",
    " '72',\n",
    " '73',\n",
    " '74',\n",
    " '77',\n",
    " '78',\n",
    " '80',\n",
    " '81.01',\n",
    " '81.02',\n",
    " '82',\n",
    " '83.01',\n",
    " '83.02',\n",
    " '84',\n",
    " '85',\n",
    " '86.01',\n",
    " '86.02',\n",
    " '87.01',\n",
    " '87.02',\n",
    " '88.01',\n",
    " '88.02',\n",
    " '90',\n",
    " '91',\n",
    " '92',\n",
    " '93',\n",
    " '94',\n",
    " '95',\n",
    " '96',\n",
    " '98.01',\n",
    " '100',\n",
    " '101',\n",
    " '102',\n",
    " '103',\n",
    " '104',\n",
    " '105',\n",
    " '106',\n",
    " '107',\n",
    " '108',\n",
    " '109',\n",
    " '110',\n",
    " '111',\n",
    " '112',\n",
    " '113',\n",
    " '119',\n",
    " '121',\n",
    " '122.01',\n",
    " '122.03',\n",
    " '131',\n",
    " '132',\n",
    " '137',\n",
    " '138',\n",
    " '139',\n",
    " '140',\n",
    " '141',\n",
    " '144',\n",
    " '145',\n",
    " '146',\n",
    " '147',\n",
    " '148',\n",
    " '149',\n",
    " '151.01',\n",
    " '151.02',\n",
    " '152',\n",
    " '153',\n",
    " '156',\n",
    " '157',\n",
    " '161',\n",
    " '162',\n",
    " '163',\n",
    " '164',\n",
    " '165',\n",
    " '167.01',\n",
    " '167.02',\n",
    " '168',\n",
    " '169.01',\n",
    " '169.02',\n",
    " '170',\n",
    " '171',\n",
    " '172.01',\n",
    " '172.02',\n",
    " '173',\n",
    " '174',\n",
    " '175',\n",
    " '176.01',\n",
    " '176.02',\n",
    " '177.01',\n",
    " '177.02',\n",
    " '178',\n",
    " '179',\n",
    " '180.02',\n",
    " '188',\n",
    " '190',\n",
    " '191',\n",
    " '192',\n",
    " '195.01',\n",
    " '195.02',\n",
    " '197',\n",
    " '198',\n",
    " '199',\n",
    " '200',\n",
    " '201.01',\n",
    " '201.02',\n",
    " '202',\n",
    " '203',\n",
    " '204',\n",
    " '205',\n",
    " '206',\n",
    " '208',\n",
    " '239',\n",
    " '240',\n",
    " '241',\n",
    " '242',\n",
    " '243',\n",
    " '244',\n",
    " '245',\n",
    " '246',\n",
    " '247',\n",
    " '249',\n",
    " '252',\n",
    " '253',\n",
    " '265',\n",
    " '267',\n",
    " '268',\n",
    " '271',\n",
    " '274.01',\n",
    " '274.02',\n",
    " '275',\n",
    " '276',\n",
    " '277',\n",
    " '278',\n",
    " '279.01',\n",
    " '279.02',\n",
    " '280',\n",
    " '281',\n",
    " '282',\n",
    " '283',\n",
    " '284',\n",
    " '285',\n",
    " '286',\n",
    " '287',\n",
    " '288',\n",
    " '289.01',\n",
    " '289.02',\n",
    " '290',\n",
    " '291',\n",
    " '293',\n",
    " '294',\n",
    " '298',\n",
    " '299',\n",
    " '300',\n",
    " '301',\n",
    " '302',\n",
    " '305.01',\n",
    " '305.02',\n",
    " '309',\n",
    " '311.01',\n",
    " '312',\n",
    " '313',\n",
    " '314.01',\n",
    " '314.02',\n",
    " '316',\n",
    " '318',\n",
    " '319',\n",
    " '321',\n",
    " '325',\n",
    " '329',\n",
    " '330',\n",
    " '337.01',\n",
    " '345.01',\n",
    " '357.01',\n",
    " '376',\n",
    " '377',\n",
    " '380',\n",
    " '381',\n",
    " '382',\n",
    " '383',\n",
    " '389',\n",
    " '390']"
   ]
  },
  {
   "cell_type": "code",
   "execution_count": 33,
   "metadata": {},
   "outputs": [],
   "source": [
    "median_errors['qct'] = False\n",
    "median_errors.loc[median_errors['NAME10'].isin(qct), 'qct'] = True"
   ]
  },
  {
   "cell_type": "code",
   "execution_count": 34,
   "metadata": {},
   "outputs": [
    {
     "data": {
      "text/plain": [
       "qct\n",
       "False   -6.207256\n",
       "True     0.701407\n",
       "Name: percent_error, dtype: float64"
      ]
     },
     "execution_count": 34,
     "metadata": {},
     "output_type": "execute_result"
    }
   ],
   "source": [
    "median_errors.groupby(\"qct\")['percent_error'].median()"
   ]
  },
  {
   "cell_type": "markdown",
   "metadata": {},
   "source": [
    "**The non-qualifying census tracts tend to be under-assessed while qualifying tracts tend to be over-assessed.**"
   ]
  },
  {
   "cell_type": "code",
   "execution_count": null,
   "metadata": {},
   "outputs": [],
   "source": []
  }
 ],
 "metadata": {
  "kernelspec": {
   "display_name": "Python 3",
   "language": "python",
   "name": "python3"
  },
  "language_info": {
   "codemirror_mode": {
    "name": "ipython",
    "version": 3
   },
   "file_extension": ".py",
   "mimetype": "text/x-python",
   "name": "python",
   "nbconvert_exporter": "python",
   "pygments_lexer": "ipython3",
   "version": "3.7.8"
  }
 },
 "nbformat": 4,
 "nbformat_minor": 4
}
